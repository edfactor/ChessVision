{
 "cells": [
  {
   "cell_type": "markdown",
   "metadata": {},
   "source": [
    "# ChessVision Performance Report\n",
    "\n",
    "This notebook can be used to generate a full performance report of the ChessVision system."
   ]
  },
  {
   "cell_type": "markdown",
   "metadata": {},
   "source": [
    "### Imports"
   ]
  },
  {
   "cell_type": "code",
   "execution_count": null,
   "metadata": {},
   "outputs": [],
   "source": [
    "%matplotlib inline\n",
    "\n",
    "from mpl_toolkits.axes_grid1 import ImageGrid\n",
    "import matplotlib.pyplot as plt\n",
    "import chessvision as cv\n",
    "from test import run_tests, get_test_generator\n",
    "import cv_globals\n",
    "import cv2\n",
    "import numpy as np\n",
    "from model.u_net import load_extractor\n",
    "from model.square_classifier import load_classifier"
   ]
  },
  {
   "cell_type": "markdown",
   "metadata": {},
   "source": [
    "### Parameters\n",
    "\n",
    "These variables will be filled in by papermill. \n",
    "(Default to using current best models)"
   ]
  },
  {
   "cell_type": "code",
   "execution_count": null,
   "metadata": {
    "tags": [
     "parameters"
    ]
   },
   "outputs": [],
   "source": [
    "classifier_weights = cv_globals.square_weights\n",
    "extractor_weights  = cv_globals.board_weights\n",
    "threshold          = 80"
   ]
  },
  {
   "cell_type": "markdown",
   "metadata": {},
   "source": [
    "### Load models and test data generator"
   ]
  },
  {
   "cell_type": "code",
   "execution_count": null,
   "metadata": {},
   "outputs": [],
   "source": [
    "data_generator = get_test_generator()\n",
    "extractor      = load_extractor(weights=extractor_weights)\n",
    "classifier     = load_classifier(weights=classifier_weights)"
   ]
  },
  {
   "cell_type": "code",
   "execution_count": null,
   "metadata": {},
   "outputs": [],
   "source": [
    "results = run_tests(data_generator, extractor, classifier, threshold)"
   ]
  },
  {
   "cell_type": "markdown",
   "metadata": {},
   "source": [
    "### Get results"
   ]
  },
  {
   "cell_type": "code",
   "execution_count": null,
   "metadata": {},
   "outputs": [],
   "source": [
    "board_imgs = results[\"board_imgs\"]\n",
    "imgs = results[\"raw_imgs\"]\n",
    "predictions = results[\"predictions\"]\n",
    "boards = results[\"chessboards\"]\n",
    "squares = results[\"squares\"]\n",
    "acc = results[\"acc\"]\n",
    "avg_time = results[\"avg_time\"]\n",
    "squares = results[\"squares\"]\n",
    "N = len(results[\"raw_imgs\"])"
   ]
  },
  {
   "cell_type": "code",
   "execution_count": null,
   "metadata": {},
   "outputs": [],
   "source": [
    "def entropy(dist):\n",
    "    return sum([-p * np.log(p) for p in dist if p != 0])\n",
    "\n",
    "def avg_entropy(predictions):\n",
    "    return sum([entropy(p) for p in predictions]) / len(predictions)"
   ]
  },
  {
   "cell_type": "code",
   "execution_count": null,
   "metadata": {},
   "outputs": [],
   "source": [
    "print(\"Test suite accuracy: {:.1f}%\".format(acc*100))\n",
    "print(\"Average time per raw classification: {:.1f}s\".format(avg_time))\n",
    "\n",
    "clf_entropy = sum([avg_entropy(p) for p in predictions]) / len(predictions)\n",
    "\n",
    "print(\"Average entropy classifier predictions: {:.2g}\".format(clf_entropy))"
   ]
  },
  {
   "cell_type": "markdown",
   "metadata": {},
   "source": [
    "### Plot results"
   ]
  },
  {
   "cell_type": "code",
   "execution_count": null,
   "metadata": {},
   "outputs": [],
   "source": [
    "rows = N\n",
    "cols = 2\n",
    "\n",
    "fig = plt.figure(1, figsize=(12, 40)) #width, height in inches.\n",
    "\n",
    "grid = ImageGrid(fig, 111,  # similar to subplot(111)\n",
    "                 nrows_ncols=(rows, cols),  # creates 2x2 grid of axes\n",
    "                 axes_pad=0.1,  # pad between axes in inch.\n",
    "                 share_all=True,\n",
    "                 label_mode=None\n",
    "                 )\n",
    "\n",
    "for i in range(rows):\n",
    "    raw = imgs[i]\n",
    "    board = board_imgs[i]\n",
    "    \n",
    "    ax1 = grid[cols*i]\n",
    "    ax1.imshow(raw)\n",
    "    ax1.axis(\"off\")\n",
    "    \n",
    "    ax2 = grid[cols*i+1]\n",
    "    ax2.imshow(board, cmap=\"gray\")\n",
    "    ax2.axis(\"off\")\n",
    "    \n",
    "    if i == 0:\n",
    "        ax1.set_title(\"Raw\")\n",
    "        ax2.set_title(\"Extracted board\")\n",
    "\n",
    "#plt.savefig(\"../../img/training_extraction.png\", bbox_inches=\"tight\")\n",
    "plt.show()\n"
   ]
  },
  {
   "cell_type": "code",
   "execution_count": null,
   "metadata": {},
   "outputs": [],
   "source": [
    "\n",
    "label_names  = ['B', 'K', 'N', 'P', 'Q', 'R', 'b', 'k', 'n', 'p', 'q', 'r', 'f']\n",
    "\n",
    "for k in range(N):\n",
    "    prediction = np.argmax(predictions[k], axis=1)\n",
    "    pred_labels = [label_names[p] for p in prediction]\n",
    "    square_grid = squares[k]\n",
    "    # Plot\n",
    "    rows, cols = 8, 8\n",
    "    fig = plt.figure(figsize=(12, 12))\n",
    "    grid = ImageGrid(fig, 111,  # similar to subplot(111)\n",
    "                     nrows_ncols=(rows, cols),  # creates 2x2 grid of axes\n",
    "                     axes_pad=0.3,  # pad between axes in inch.\n",
    "                     share_all=True,\n",
    "                     label_mode=None\n",
    "                     )\n",
    "\n",
    "    for i in range(cols):\n",
    "        for j in range(rows):\n",
    "            ind = cols*i+j\n",
    "            im = square_grid[ind]\n",
    "            label = pred_labels[ind]\n",
    "            grid[ind].imshow(im.reshape(64, 64), cmap=\"gray\")\n",
    "            grid[ind].set_title(label, size=14, fontweight=3)\n",
    "            grid[ind].axis(\"off\")\n",
    "\n",
    "    plt.suptitle(\"Classification of test image {}\".format(k), size=20, fontweight=5)"
   ]
  }
 ],
 "metadata": {
  "celltoolbar": "Tags",
  "kernelspec": {
   "display_name": "Python 3",
   "language": "python",
   "name": "python3"
  },
  "language_info": {
   "codemirror_mode": {
    "name": "ipython",
    "version": 3
   },
   "file_extension": ".py",
   "mimetype": "text/x-python",
   "name": "python",
   "nbconvert_exporter": "python",
   "pygments_lexer": "ipython3",
   "version": "3.5.5"
  }
 },
 "nbformat": 4,
 "nbformat_minor": 2
}
