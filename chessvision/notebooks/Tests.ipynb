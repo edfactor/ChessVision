{
 "cells": [
  {
   "cell_type": "markdown",
   "metadata": {},
   "source": [
    "# ChessVision Tests"
   ]
  },
  {
   "cell_type": "code",
   "execution_count": 1,
   "metadata": {},
   "outputs": [
    {
     "name": "stdout",
     "output_type": "stream",
     "text": [
      "(8, 512, 512, 3)\n"
     ]
    }
   ],
   "source": [
    "import chessvision as cv\n",
    "import cv_globals\n",
    "from util import listdir_nohidden\n",
    "import cv2\n",
    "import numpy as np\n",
    "\n",
    "test_data_dir = cv_globals.data_root + \"test/\"\n",
    "filenames = listdir_nohidden(test_data_dir + \"raw/\")\n",
    "test_imgs = np.array(list(map(lambda x: cv2.imread(test_data_dir + \"raw/\" + x), filenames)))\n",
    "\n",
    "print(test_imgs.shape)\n",
    "N = test_imgs.shape[0]"
   ]
  },
  {
   "cell_type": "code",
   "execution_count": 2,
   "metadata": {},
   "outputs": [
    {
     "name": "stderr",
     "output_type": "stream",
     "text": [
      "Using Theano backend.\n"
     ]
    },
    {
     "name": "stdout",
     "output_type": "stream",
     "text": [
      "Loading square model..\n",
      "Loading square model.. DONE\n",
      "Loading board extraction model..\n",
      "Loading board extraction model.. DONE\n"
     ]
    }
   ],
   "source": [
    "from u_net import load_extractor\n",
    "from square_classifier import load_classifier\n",
    "\n",
    "classifier = load_classifier()\n",
    "\n",
    "extractor = load_extractor()"
   ]
  },
  {
   "cell_type": "code",
   "execution_count": 4,
   "metadata": {},
   "outputs": [
    {
     "name": "stdout",
     "output_type": "stream",
     "text": [
      "Processing image 6404e621-cc56-4db2-8970-76ea123e8a71.JPG\n",
      "Extracting board..\n",
      "Found 7 contour(s)\n",
      "Filtered to 1 contour(s)\n",
      "Extracting board.. DONE\n",
      "Classifying board..\n",
      "Predicted more than two white kings!\n",
      "Classifying board.. DONE\n",
      "Processing image 6404e621-cc56-4db2-8970-76ea123e8a71.JPG.. DONE\n"
     ]
    },
    {
     "ename": "NameError",
     "evalue": "name 'vectorize_chessboard' is not defined",
     "output_type": "error",
     "traceback": [
      "\u001b[0;31m---------------------------------------------------------------------------\u001b[0m",
      "\u001b[0;31mNameError\u001b[0m                                 Traceback (most recent call last)",
      "\u001b[0;32m<ipython-input-4-8d7352637866>\u001b[0m in \u001b[0;36m<module>\u001b[0;34m()\u001b[0m\n\u001b[1;32m      9\u001b[0m \u001b[0;34m\u001b[0m\u001b[0m\n\u001b[1;32m     10\u001b[0m     \u001b[0m_\u001b[0m\u001b[0;34m,\u001b[0m \u001b[0m_\u001b[0m\u001b[0;34m,\u001b[0m \u001b[0mchessboard\u001b[0m\u001b[0;34m,\u001b[0m \u001b[0m_\u001b[0m\u001b[0;34m,\u001b[0m \u001b[0m_\u001b[0m \u001b[0;34m=\u001b[0m \u001b[0mcv\u001b[0m\u001b[0;34m.\u001b[0m\u001b[0mclassify_raw\u001b[0m\u001b[0;34m(\u001b[0m\u001b[0mtest_imgs\u001b[0m\u001b[0;34m[\u001b[0m\u001b[0mi\u001b[0m\u001b[0;34m]\u001b[0m\u001b[0;34m,\u001b[0m \u001b[0mfilename\u001b[0m\u001b[0;34m,\u001b[0m \u001b[0mextractor\u001b[0m\u001b[0;34m,\u001b[0m \u001b[0mclassifier\u001b[0m\u001b[0;34m)\u001b[0m\u001b[0;34m\u001b[0m\u001b[0m\n\u001b[0;32m---> 11\u001b[0;31m     \u001b[0mres\u001b[0m \u001b[0;34m=\u001b[0m \u001b[0mvectorize_chessboard\u001b[0m\u001b[0;34m(\u001b[0m\u001b[0mchessboard\u001b[0m\u001b[0;34m)\u001b[0m\u001b[0;34m\u001b[0m\u001b[0m\n\u001b[0m\u001b[1;32m     12\u001b[0m \u001b[0;34m\u001b[0m\u001b[0m\n\u001b[1;32m     13\u001b[0m     \u001b[0;32mwith\u001b[0m \u001b[0mopen\u001b[0m\u001b[0;34m(\u001b[0m\u001b[0moutfile\u001b[0m\u001b[0;34m,\u001b[0m \u001b[0;34m\"w\"\u001b[0m\u001b[0;34m)\u001b[0m \u001b[0;32mas\u001b[0m \u001b[0mout\u001b[0m\u001b[0;34m:\u001b[0m\u001b[0;34m\u001b[0m\u001b[0m\n",
      "\u001b[0;31mNameError\u001b[0m: name 'vectorize_chessboard' is not defined"
     ]
    }
   ],
   "source": [
    "import os\n",
    "#use this one to rough-label new test images\n",
    "for i in range(N):\n",
    "    filename = filenames[i]\n",
    "    outfile = test_data_dir + \"ground_truth/\" + filename[:-4] + \".txt\"\n",
    "    \n",
    "    if os.path.exists(outfile):\n",
    "        continue\n",
    "\n",
    "    _, _, chessboard, _, _ = cv.classify_raw(test_imgs[i], filename, extractor, classifier)\n",
    "    res = vectorize_chessboard(chessboard)\n",
    "    \n",
    "    with open(outfile, \"w\") as out:\n",
    "        out.write(str(res))"
   ]
  },
  {
   "cell_type": "code",
   "execution_count": 63,
   "metadata": {},
   "outputs": [
    {
     "name": "stdout",
     "output_type": "stream",
     "text": [
      "Processing image f29c1937-8279-45a5-a74a-0c6b1aa3ffbe.JPG\n",
      "Extracting board..\n",
      "Found 5 contour(s)\n",
      "Filtered to 1 contour(s)\n",
      "Extracting board.. DONE\n",
      "Classifying board..\n",
      "Classifying board.. DONE\n",
      "Processing image f29c1937-8279-45a5-a74a-0c6b1aa3ffbe.JPG.. DONE\n",
      "Processing image 8991e2f3-56cc-4ae3-a57d-69f8c9586efe.JPG\n",
      "Extracting board..\n",
      "Found 3 contour(s)\n",
      "Filtered to 1 contour(s)\n",
      "Extracting board.. DONE\n",
      "Classifying board..\n",
      "Classifying board.. DONE\n",
      "Processing image 8991e2f3-56cc-4ae3-a57d-69f8c9586efe.JPG.. DONE\n",
      "Processing image 325732c8-7fb2-47a3-a579-e335c304d0af.JPG\n",
      "Extracting board..\n",
      "Extracting board.. DONE\n",
      "Classifying board..\n",
      "Classifying board.. DONE\n",
      "Processing image 325732c8-7fb2-47a3-a579-e335c304d0af.JPG.. DONE\n",
      "Processing image b7ab6da8-face-4c24-84ab-02ae722eac70.JPG\n",
      "Extracting board..\n",
      "Extracting board.. DONE\n",
      "Classifying board..\n",
      "Classifying board.. DONE\n",
      "Processing image b7ab6da8-face-4c24-84ab-02ae722eac70.JPG.. DONE\n",
      "Processing image 18bc9861-4199-4ea6-9e32-c15c8d05d349.JPG\n",
      "Extracting board..\n",
      "Found 2 contour(s)\n",
      "Filtered to 1 contour(s)\n",
      "Extracting board.. DONE\n",
      "Classifying board..\n",
      "Classifying board.. DONE\n",
      "Processing image 18bc9861-4199-4ea6-9e32-c15c8d05d349.JPG.. DONE\n",
      "0.990625\n"
     ]
    }
   ],
   "source": [
    "import ast\n",
    "# use this one to compute test-accuracy\n",
    "test_accuracy = 0\n",
    "for i in range(N):\n",
    "    filename = filenames[i]\n",
    "    truth_file = test_data_dir + \"ground_truth/\" + filename[:-4] + \".txt\"\n",
    "    with open(truth_file) as truth:\n",
    "        true_labels = ast.literal_eval(truth.read())\n",
    "\n",
    "    _, _, chessboard, _, _ = cv.classify_raw(test_imgs[i], filename, extractor, classifier)\n",
    "    res = vectorize_chessboard(chessboard)\n",
    "    test_accuracy += sim(res, true_labels)\n",
    "    \n",
    "test_accuracy /= N\n",
    "test_accuracy *= 100"
   ]
  },
  {
   "cell_type": "code",
   "execution_count": 65,
   "metadata": {},
   "outputs": [
    {
     "name": "stdout",
     "output_type": "stream",
     "text": [
      "Test accuracy is 99.0625%\n"
     ]
    }
   ],
   "source": [
    "print(\"Test accuracy is {}%\".format(test_accuracy))"
   ]
  },
  {
   "cell_type": "code",
   "execution_count": 36,
   "metadata": {},
   "outputs": [
    {
     "name": "stdout",
     "output_type": "stream",
     "text": [
      "['f', 'f', 'f', 'f', 'f', 'R', 'f', 'K', 'P', 'P', 'f', 'f', 'f', 'f', 'P', 'P', 'f', 'f', 'P', 'R', 'f', 'Q', 'f', 'f', 'f', 'f', 'f', 'f', 'f', 'f', 'f', 'f', 'f', 'p', 'f', 'f', 'f', 'f', 'f', 'f', 'p', 'q', 'f', 'f', 'b', 'f', 'f', 'N', 'f', 'f', 'p', 'f', 'f', 'p', 'r', 'p', 'f', 'f', 'f', 'f', 'r', 'k', 'f', 'f']\n"
     ]
    }
   ],
   "source": [
    "res = vectorize_chessboard(chessboard)\n",
    "print(res)"
   ]
  },
  {
   "cell_type": "code",
   "execution_count": 5,
   "metadata": {},
   "outputs": [],
   "source": [
    "def sim(a, b):\n",
    "    return sum([aa == bb for aa, bb in zip(a, b)]) / len(a)\n",
    "\n",
    "def vectorize_chessboard(board):\n",
    "    res = [\"f\"] * 64\n",
    "    \n",
    "    piecemap = board.piece_map()\n",
    "    \n",
    "    for piece in piecemap:\n",
    "        res[piece] = piecemap[piece].symbol()\n",
    "        #print(piece)\n",
    "\n",
    "    return res\n",
    "        "
   ]
  },
  {
   "cell_type": "code",
   "execution_count": null,
   "metadata": {},
   "outputs": [],
   "source": []
  }
 ],
 "metadata": {
  "kernelspec": {
   "display_name": "Python 3",
   "language": "python",
   "name": "python3"
  },
  "language_info": {
   "codemirror_mode": {
    "name": "ipython",
    "version": 3
   },
   "file_extension": ".py",
   "mimetype": "text/x-python",
   "name": "python",
   "nbconvert_exporter": "python",
   "pygments_lexer": "ipython3",
   "version": "3.5.5"
  }
 },
 "nbformat": 4,
 "nbformat_minor": 2
}
